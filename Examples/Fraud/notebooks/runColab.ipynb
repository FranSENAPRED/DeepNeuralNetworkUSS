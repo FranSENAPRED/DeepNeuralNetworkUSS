{
 "cells": [
  {
   "cell_type": "markdown",
   "id": "c6069ffc",
   "metadata": {},
   "source": [
    "# 🔗 Proyecto de Detección de Fraude - Google Colab"
   ]
  },
  {
   "cell_type": "code",
   "execution_count": null,
   "id": "0f84c80e",
   "metadata": {},
   "outputs": [],
   "source": [
    "# ✅ Clonar el repositorio (asegúrate de que sea público)\n",
    "!git clone https://github.com/solivare/DeepNeuralNetworkUSS.git\n",
    "%cd DeepNeuralNetworkUSS/Examples/Fraud\n"
   ]
  },
  {
   "cell_type": "code",
   "execution_count": null,
   "id": "3d8767d0",
   "metadata": {},
   "outputs": [],
   "source": [
    "# ✅ Instalar librerías necesarias\n",
    "!pip install -r requirements.txt\n"
   ]
  },
  {
   "cell_type": "code",
   "execution_count": null,
   "id": "165d9394",
   "metadata": {},
   "outputs": [],
   "source": [
    "# ✅ Descargar el dataset desde Google Drive (archivo ya compartido públicamente)\n",
    "!mkdir -p data\n",
    "!wget --no-check-certificate 'https://docs.google.com/uc?export=download&id=1KVCoiYWN9mtDnQhhqDNeEpDr9Az9jKVa' -O data/creditcard.csv\n"
   ]
  },
  {
   "cell_type": "code",
   "execution_count": null,
   "id": "9f3f88ee",
   "metadata": {},
   "outputs": [],
   "source": [
    "# ✅ Procesar los datos\n",
    "!python src/preprocess.py\n"
   ]
  },
  {
   "cell_type": "code",
   "execution_count": null,
   "id": "b4a5cb13",
   "metadata": {},
   "outputs": [],
   "source": [
    "# ✅ Entrenar modelo\n",
    "!python -c \"import src.train as train; train.train()\"\n"
   ]
  },
  {
   "cell_type": "code",
   "execution_count": null,
   "id": "8719354c",
   "metadata": {},
   "outputs": [],
   "source": [
    "# ✅ Evaluar y visualizar resultados\n",
    "!python -c \"import src.evaluate as evaluate; evaluate.evaluate_model()\"\n"
   ]
  }
 ],
 "metadata": {},
 "nbformat": 4,
 "nbformat_minor": 5
}